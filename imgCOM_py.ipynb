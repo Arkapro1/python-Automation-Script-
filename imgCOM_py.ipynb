{
  "nbformat": 4,
  "nbformat_minor": 0,
  "metadata": {
    "colab": {
      "provenance": [],
      "authorship_tag": "ABX9TyO7ODkCNp4y9QAddN4Ljt8s",
      "include_colab_link": true
    },
    "kernelspec": {
      "name": "python3",
      "display_name": "Python 3"
    },
    "language_info": {
      "name": "python"
    }
  },
  "cells": [
    {
      "cell_type": "markdown",
      "metadata": {
        "id": "view-in-github",
        "colab_type": "text"
      },
      "source": [
        "<a href=\"https://colab.research.google.com/github/Arkapro1/python-Automation-Script-/blob/main/imgCOM_py.ipynb\" target=\"_parent\"><img src=\"https://colab.research.google.com/assets/colab-badge.svg\" alt=\"Open In Colab\"/></a>"
      ]
    },
    {
      "cell_type": "markdown",
      "source": [
        "compression ->\n"
      ],
      "metadata": {
        "id": "Df1LbUe9ygIM"
      }
    },
    {
      "cell_type": "code",
      "source": [
        "import os\n",
        "import cv2\n",
        "\n",
        "def get_file_size_in_mb(file_path):\n",
        "    \"\"\"\n",
        "    Get the file size in megabytes.\n",
        "\n",
        "    Parameters:\n",
        "    - file_path: str, the path of the file.\n",
        "\n",
        "    Returns:\n",
        "    - float, the size of the file in megabytes.\n",
        "    \"\"\"\n",
        "    file_size = os.path.getsize(file_path)\n",
        "    return file_size / (1024 * 1024)\n",
        "\n",
        "def compress_image(input_path, output_path, quality=20):\n",
        "    \"\"\"\n",
        "    Compress an image and save it to the specified output path.\n",
        "\n",
        "    Parameters:\n",
        "    - input_path: str, the path of the input image.\n",
        "    - output_path: str, the path to save the compressed image.\n",
        "    - quality: int, the quality of the compressed image (1 to 100).\n",
        "    \"\"\"\n",
        "    img = cv2.imread(input_path)\n",
        "    cv2.imwrite(output_path, img, [int(cv2.IMWRITE_JPEG_QUALITY), quality])\n",
        "\n",
        "def compress_images(input_folder, output_folder, quality=10):\n",
        "    # Create the output folder if it doesn't exist\n",
        "    if not os.path.exists(output_folder):\n",
        "        os.makedirs(output_folder)\n",
        "\n",
        "    # Iterate over all the files in the input folder\n",
        "    for foldername, subfolders, filenames in os.walk(input_folder):\n",
        "        for filename in filenames:\n",
        "            if filename.lower().endswith(('.png', '.jpg', '.jpeg', '.gif', '.bmp')):\n",
        "                # Create the full file path for input and output\n",
        "                input_path = os.path.join(foldername, filename)\n",
        "                output_path = os.path.join(output_folder, filename)\n",
        "\n",
        "                # Compress and save the image\n",
        "                compress_image(input_path, output_path, quality)\n",
        "\n",
        "                # Calculate sizes\n",
        "                original_size_mb = get_file_size_in_mb(input_path)\n",
        "                compressed_size_mb = get_file_size_in_mb(output_path)\n",
        "\n",
        "                # Print the comparison\n",
        "                print(f\"Image: {filename}\")\n",
        "                print(f\"Original size: {original_size_mb:.2f} MB\")\n",
        "                print(f\"Compressed size: {compressed_size_mb:.2f} MB\\n\")\n",
        "\n",
        "    print(f\"Images from '{input_folder}' have been compressed and saved to '{output_folder}'.\")\n",
        "\n",
        "if __name__ == \"__main__\":\n",
        "    input_folder = input(\"Enter the name of the folder containing the images: \")\n",
        "    output_folder = input(\"Enter the name for the new folder to store the compressed files: \")\n",
        "    compress_images(input_folder, output_folder)"
      ],
      "metadata": {
        "colab": {
          "base_uri": "https://localhost:8080/"
        },
        "id": "SJ5fqb4lpDhc",
        "outputId": "bc179b04-ee9b-4d12-8921-9f823e4af8de"
      },
      "execution_count": null,
      "outputs": [
        {
          "output_type": "stream",
          "name": "stdout",
          "text": [
            "Enter the name of the folder containing the images: ImgCoom\n",
            "Enter the name for the new folder to store the compressed files: com\n",
            "Image: alchemyrefiner_alchemymagic_3_42a36890-c1f6-43f4-966b-70c4751e32bc_0.jpg\n",
            "Original size: 0.61 MB\n",
            "Compressed size: 0.07 MB\n",
            "\n",
            "Image: IMG20231231172931.jpg\n",
            "Original size: 4.38 MB\n",
            "Compressed size: 0.50 MB\n",
            "\n",
            "Images from 'ImgCoom' have been compressed and saved to 'com'.\n"
          ]
        }
      ]
    },
    {
      "cell_type": "markdown",
      "source": [
        "img details\n"
      ],
      "metadata": {
        "id": "8qnPvFqvynvM"
      }
    },
    {
      "cell_type": "code",
      "source": [
        "from PIL import Image\n",
        "import os\n",
        "\n",
        "def get_image_details(file_path):\n",
        "    try:\n",
        "        with Image.open(file_path) as img:\n",
        "            width, height = img.size\n",
        "            file_format = img.format\n",
        "            file_size_bytes = os.path.getsize(file_path)\n",
        "            file_size_mb = file_size_bytes / (1024 * 1024)\n",
        "\n",
        "            return {\n",
        "                \"File Path\": file_path,\n",
        "                \"Width\": width,\n",
        "                \"Height\": height,\n",
        "                \"Format\": file_format,\n",
        "                \"Size (MB)\": file_size_mb\n",
        "            }\n",
        "    except Exception as e:\n",
        "        return {\"Error\": str(e)}\n",
        "\n",
        "if __name__ == \"__main__\":\n",
        "    file_path = input(\"Enter the path to the image file: \")\n",
        "    details = get_image_details(file_path)\n",
        "\n",
        "    if \"Error\" in details:\n",
        "        print(f\"Error: {details['Error']}\")\n",
        "    else:\n",
        "        print(f\"Image Details:\")\n",
        "        print(f\"  File Path: {details['File Path']}\")\n",
        "        print(f\"  Width: {details['Width']} pixels\")\n",
        "        print(f\"  Height: {details['Height']} pixels\")\n",
        "        print(f\"  Format: {details['Format']}\")\n",
        "        print(f\"  Size: {details['Size (MB)']:.2f} MB\")\n"
      ],
      "metadata": {
        "colab": {
          "base_uri": "https://localhost:8080/"
        },
        "id": "FieYqaUSrUDM",
        "outputId": "c058817c-07c8-47b2-aa99-8edc48eb6095"
      },
      "execution_count": null,
      "outputs": [
        {
          "output_type": "stream",
          "name": "stdout",
          "text": [
            "Enter the path to the image file: /content/com01/alchemyrefiner_alchemymagic_3_42a36890-c1f6-43f4-966b-70c4751e32bc_0.jpg\n",
            "Image Details:\n",
            "  File Path: /content/com01/alchemyrefiner_alchemymagic_3_42a36890-c1f6-43f4-966b-70c4751e32bc_0.jpg\n",
            "  Width: 1224 pixels\n",
            "  Height: 1840 pixels\n",
            "  Format: JPEG\n",
            "  Size: 0.07 MB\n"
          ]
        }
      ]
    },
    {
      "cell_type": "markdown",
      "source": [
        "folder remover"
      ],
      "metadata": {
        "id": "zQKTVtwPyxUW"
      }
    },
    {
      "cell_type": "code",
      "source": [
        "import os\n",
        "import shutil\n",
        "\n",
        "def remove_folders_with_substring(substring):\n",
        "    \"\"\"\n",
        "    Removes all folders with the specified substring in their name within the current directory.\n",
        "\n",
        "    Parameters:\n",
        "    - substring: str, the substring to match in folder names.\n",
        "    \"\"\"\n",
        "    for item in os.listdir():\n",
        "        item_path = os.path.join('.', item)\n",
        "        if os.path.isdir(item_path) and substring in item:\n",
        "            try:\n",
        "                shutil.rmtree(item_path)  # Use shutil.rmtree to remove non-empty folders\n",
        "                print(f\"Removed folder: {item}\")\n",
        "            except OSError as e:\n",
        "                print(f\"Error removing folder {item}: {e}\")\n",
        "\n",
        "if __name__ == \"__main__\":\n",
        "    substring = input(\"Enter the substring to match in folder names: \")\n",
        "    remove_folders_with_substring(substring)\n"
      ],
      "metadata": {
        "colab": {
          "base_uri": "https://localhost:8080/"
        },
        "id": "yJkPgWD8yP2Z",
        "outputId": "50bdea3a-5ddc-4523-e990-1c0d111db92b"
      },
      "execution_count": null,
      "outputs": [
        {
          "output_type": "stream",
          "name": "stdout",
          "text": [
            "Enter the substring to match in folder names: com\n",
            "Removed folder: com\n"
          ]
        }
      ]
    }
  ]
}